{
 "cells": [
  {
   "cell_type": "markdown",
   "metadata": {
    "collapsed": true,
    "slideshow": {
     "slide_type": "slide"
    }
   },
   "source": [
    "# Processing Global Geospatial Datasets from OpenStreetMap and NASA Sattelites \n",
    "\n",
    "<img src=\"https://hire.withgoogle.com/public_frame/jobs/azaveacom/logo/P_AAAAAADAABpCmr9NGZP2H_.png\"\n",
    "     alt=\"Azavea Logo\"\n",
    "     style=\"float: right; margin-right: 10px; width: 400px\" />\n",
    "\n",
    "- Eugene Cheipesh\n",
    "- echeipesh@azavea.com\n",
    "- www.azavea.com\n",
    "- GitHub: @echeipesh\n",
    "\n",
    "\"I hope you like code and workbooks!\" "
   ]
  },
  {
   "cell_type": "code",
   "execution_count": null,
   "metadata": {
    "slideshow": {
     "slide_type": "subslide"
    }
   },
   "outputs": [],
   "source": [
    "import geopyspark as gps\n",
    "import numpy as np\n",
    "import pyproj\n",
    "import folium\n",
    "\n",
    "from functools import partial\n",
    "from shapely.geometry import Point, Polygon\n",
    "from shapely.ops import transform\n",
    "from pyspark import SparkContext, StorageLevel\n",
    "from pyspark.sql import SparkSession"
   ]
  },
  {
   "cell_type": "code",
   "execution_count": null,
   "metadata": {
    "slideshow": {
     "slide_type": "subslide"
    }
   },
   "outputs": [],
   "source": [
    "conf = gps.geopyspark_conf(appName=\"geopython-notebook-emr\", master='local[*]')\n",
    "conf.set('spark.default.parallelism', 8)\n",
    "conf.set('spark.ui.enabled', True)\n",
    "conf.set('spark.master.memory', '9500M')\n",
    "conf.set('spark.driver.maxResultSize', '3G')\n",
    "conf.set('spark.task.maxFailures', '33')\n",
    "conf.set('spark.executor.extraJavaOptions', '-XX:+UseParallelGC')\n",
    "\n",
    "sc = SparkContext(conf=conf)\n",
    "\n",
    "hadoopConf = sc._jsc.hadoopConfiguration()\n",
    "hadoopConf.set(\"fs.s3.impl\", \"org.apache.hadoop.fs.s3native.NativeS3FileSystem\")\n",
    "hadoopConf.set(\"fs.s3.awsAccessKeyId\", '')\n",
    "hadoopConf.set(\"fs.s3.awsSecretAccessKey\", '')\n",
    "\n",
    "pysc = gps.get_spark_context()\n",
    "session = SparkSession.builder.config(conf=pysc.getConf()).enableHiveSupport().getOrCreate()"
   ]
  },
  {
   "cell_type": "markdown",
   "metadata": {
    "slideshow": {
     "slide_type": "slide"
    }
   },
   "source": [
    "# Motivating Scenario\n",
    "\n",
    "\n",
    "<img src=\"https://user-images.githubusercontent.com/1158084/40941771-d8530766-6800-11e8-8a29-ce611825a16c.jpg\" \n",
    "    style=\"float: right; width: 200px; margin-right: 10px;\" />\n",
    "    \n",
    "We are an agency responding to an introduction of an invasive species of the European Short-Horned beetle.\n",
    "\n",
    "It has arrived in a series of lumber shipments a week ago and may spread through the road network as cargo or on clothing of people handling the shipments.\n",
    "\n",
    "What are the candidate affected areas for initial treatment?\n"
   ]
  },
  {
   "cell_type": "markdown",
   "metadata": {
    "slideshow": {
     "slide_type": "subslide"
    }
   },
   "source": [
    "## Goal: Cost Distance Model\n",
    "\n",
    "<img src=\"https://user-images.githubusercontent.com/1158084/40941770-d839880e-6800-11e8-86de-51070d1a1b61.jpg\" \n",
    "    style=\"float: right; width: 200px; margin-right: 10px;\" />\n",
    "    \n",
    "- Accumulated cost from starting point\n",
    "- Cost described by friction layer\n",
    "- Every pixel is eight connected\n",
    "- Iterative algoirthm\n",
    "\n"
   ]
  },
  {
   "cell_type": "markdown",
   "metadata": {
    "slideshow": {
     "slide_type": "subslide"
    }
   },
   "source": [
    "## What is our friction surface?\n",
    "\n",
    "\n",
    "<img src=\"https://user-images.githubusercontent.com/1158084/40941770-d839880e-6800-11e8-86de-51070d1a1b61.jpg\" \n",
    "    style=\"float: right; width: 200px; margin-right: 10px;\" />\n",
    "\n",
    "- Traveling on roads is easy because of cars\n",
    "- Traveling off roads requires walking\n",
    "- Walking speed depends on slope\n",
    "- Walking is easier in the city\n",
    "- Walking is harder through forest"
   ]
  },
  {
   "cell_type": "markdown",
   "metadata": {
    "slideshow": {
     "slide_type": "slide"
    }
   },
   "source": [
    "## Setting our workspace"
   ]
  },
  {
   "cell_type": "code",
   "execution_count": null,
   "metadata": {
    "slideshow": {
     "slide_type": "fragment"
    }
   },
   "outputs": [],
   "source": [
    "# The URI that the raster layers will be saved/read from\n",
    "layer_uri = \"s3://geopyspark-demo/geopython/catalog/emr\"\n",
    "\n",
    "# The AttributeStore is a Key/Value metadata store for our layers\n",
    "store = gps.AttributeStore(layer_uri)"
   ]
  },
  {
   "cell_type": "markdown",
   "metadata": {
    "slideshow": {
     "slide_type": "slide"
    }
   },
   "source": [
    "# OpenStreetMap\n",
    "\n",
    "\"OSM is a free, editable map of the world, created and maintained by volunteers and available for use under an open license. In the 12 years of OSM’s existence, editors have created and modified several billion features (physical things on the ground like roads or buildings).\"\n",
    "\n",
    "https://registry.opendata.aws/osm/"
   ]
  },
  {
   "cell_type": "markdown",
   "metadata": {
    "slideshow": {
     "slide_type": "subslide"
    }
   },
   "source": [
    "## OpenStreeMap Schema\n",
    "\n",
    "<img src=\"https://user-images.githubusercontent.com/1158084/36169819-5cf29190-10cb-11e8-9161-6f0386f14194.png\" \n",
    "     style=\"float: right; margin-right: 10px;\"/>\n",
    "     \n",
    "- **Node**\n",
    "    - POI, Label, Stop\n",
    "- **Way**\n",
    "    - Road, River, Boundary\n",
    "- **Relation**\n",
    "    - Geographic, Semantic"
   ]
  },
  {
   "cell_type": "code",
   "execution_count": null,
   "metadata": {
    "scrolled": false,
    "slideshow": {
     "slide_type": "subslide"
    }
   },
   "outputs": [],
   "source": [
    "session.read.orc(\"s3://osm-pds/planet/planet-latest.orc\").printSchema()"
   ]
  },
  {
   "cell_type": "markdown",
   "metadata": {
    "slideshow": {
     "slide_type": "subslide"
    }
   },
   "source": [
    "## OSM Roads and Trails"
   ]
  },
  {
   "cell_type": "code",
   "execution_count": null,
   "metadata": {
    "slideshow": {
     "slide_type": "fragment"
    }
   },
   "outputs": [],
   "source": [
    "# Read in the OSM data from an ORC file\n",
    "file_uri = \"s3://geotrellis-test/xterrain/continental-us.orc\"\n",
    "osm_dataframe = session.read.orc(file_uri)"
   ]
  },
  {
   "cell_type": "code",
   "execution_count": null,
   "metadata": {
    "slideshow": {
     "slide_type": "fragment"
    }
   },
   "outputs": [],
   "source": [
    "# Get all of the ways as line features\n",
    "osm = gps.vector_pipe.osm_reader.from_dataframe(osm_dataframe)\n",
    "lines = osm.get_line_features_rdd()\n",
    "highways = lines.filter(lambda feature: 'highway' in feature.properties.tags)"
   ]
  },
  {
   "cell_type": "code",
   "execution_count": null,
   "metadata": {
    "scrolled": false,
    "slideshow": {
     "slide_type": "fragment"
    }
   },
   "outputs": [],
   "source": [
    "highways.take(1)"
   ]
  },
  {
   "cell_type": "markdown",
   "metadata": {
    "slideshow": {
     "slide_type": "slide"
    }
   },
   "source": [
    "## Assign Road or Path Speed"
   ]
  },
  {
   "cell_type": "code",
   "execution_count": null,
   "metadata": {
    "slideshow": {
     "slide_type": "fragment"
    }
   },
   "outputs": [],
   "source": [
    "path_tags = ['footway', 'steps', 'bridleway', 'path', 'cycleway', 'escalator']\n",
    "\n",
    "# Filter out the highways into roads and paths\n",
    "\n",
    "roads = highways.filter(\n",
    "    lambda feature: \n",
    "        feature.properties.tags['highway'] not in path_tags)\n",
    "\n",
    "paths = highways.filter(\n",
    "    lambda feature: \n",
    "        feature.properties.tags['highway'] in path_tags)"
   ]
  },
  {
   "cell_type": "code",
   "execution_count": null,
   "metadata": {
    "slideshow": {
     "slide_type": "subslide"
    }
   },
   "outputs": [],
   "source": [
    "# This cell contains the logic that assigns each section of road a\n",
    "# speed based on the type of road that section is.\n",
    "\n",
    "default_speeds = {\n",
    "    'motorway': 65,\n",
    "    'trunk': 45,\n",
    "    'primary': 40,\n",
    "    'secondary': 35,\n",
    "    'tertiary': 30,\n",
    "    'unclassified': 20,\n",
    "    'residential': 20,\n",
    "    'service': 15,\n",
    "    'motorway_link': 45,\n",
    "    'trunk_link': 40,\n",
    "    'primary_link': 35,\n",
    "    'secondary_link': 30,\n",
    "    'tertiary_link': 25,\n",
    "    'living_street': 5,\n",
    "    'pedestrian': 5,\n",
    "    'track': 15,\n",
    "    'road': 30}\n",
    "\n",
    "words = ['maxspeed', 'ambiguous', 'signals', \n",
    "         'none', 'walk', 'variable', \n",
    "         'national', 'fixme', 'unposted', 'implicit']\n",
    "\n",
    "def is_number(s):\n",
    "    try:\n",
    "        float(s)\n",
    "        return True\n",
    "    except ValueError:\n",
    "        return False\n",
    "\n",
    "def default_speed(highway):\n",
    "    if not highway in default_speeds:\n",
    "        return default_speeds['road']\n",
    "    else:\n",
    "        return default_speeds[highway]\n",
    "\n",
    "def get_maxspeed(speed, units, highway):\n",
    "    speeds = speed.split(';|,-')\n",
    "    maxspeed = 0\n",
    "    for sp in speeds:\n",
    "        sp = sp.replace(units, '')\n",
    "        if (is_number(sp)):\n",
    "            if units == 'kph':\n",
    "                sp = float(sp) / 1.609344 \n",
    "            elif units == 'knots':\n",
    "                sp = 0.868976 * float(knots)\n",
    "            else:\n",
    "                sp = float(sp)\n",
    "                \n",
    "            if sp > maxspeed:\n",
    "                maxspeed = sp\n",
    "    if maxspeed > 0:\n",
    "        speed = maxspeed\n",
    "    else:\n",
    "        speed = default_speed(highway)\n",
    "\n",
    "    return speed\n",
    "\n",
    "def get_highway_cellvalue(osm_feature):   \n",
    "    highway = osm_feature.properties.tags['highway']\n",
    "    speed = osm_feature.properties.tags.get('maxspeed', '')\n",
    "                                \n",
    "    speed = speed.lower().strip()\n",
    "        \n",
    "    # if we don't have a speed, give it a default\n",
    "    if len(speed) == 0:\n",
    "        speed = default_speed(highway)\n",
    "    elif not is_number(speed):\n",
    "        if 'kph' in speed:\n",
    "            speed = get_maxspeed(speed, 'kph', highway)\n",
    "        elif 'km/h' in speed:\n",
    "            speed = get_maxspeed(speed, 'km/h', highway)\n",
    "        elif 'kmh' in speed:\n",
    "            speed = get_maxspeed(speed, 'kmh', highway)\n",
    "        elif 'mph' in speed:\n",
    "            speed = get_maxspeed(speed, 'mph', highway)\n",
    "        elif 'knots' in speed:\n",
    "            speed = get_maxspeed(speed, 'knots', highway)\n",
    "        elif speed in words:\n",
    "            speed = default_speed(highway)\n",
    "        else:\n",
    "            speed = get_maxspeed(speed, '', highway)            \n",
    "    if float(speed) <= 0.0:\n",
    "        speed = default_speed(highway)\n",
    "\n",
    "    speed = float(speed)\n",
    "    return gps.CellValue(speed, speed)"
   ]
  },
  {
   "cell_type": "code",
   "execution_count": null,
   "metadata": {
    "slideshow": {
     "slide_type": "subslide"
    }
   },
   "outputs": [],
   "source": [
    "# Encode the the paths with the default walking speed\n",
    "path_features = paths\\\n",
    "    .map(lambda feature: \n",
    "         gps.Feature(feature.geometry, gps.CellValue(3.74, 3.74)))\\\n",
    "    .persist(StorageLevel.MEMORY_AND_DISK_SER)\n",
    "\n",
    "# Encode the road speeds based on road type, get_highway_cellvalue\n",
    "road_features = roads\\\n",
    "    .map(\n",
    "        lambda feature: \n",
    "            gps.Feature(feature.geometry, get_highway_cellvalue(feature)))\\\n",
    "    .persist(StorageLevel.MEMORY_AND_DISK_SER)"
   ]
  },
  {
   "cell_type": "markdown",
   "metadata": {
    "slideshow": {
     "slide_type": "subslide"
    }
   },
   "source": [
    "## Rasterize OSM Features\n",
    "\n",
    "<img src=\"https://user-images.githubusercontent.com/11281373/29459223-acdb92f0-83f0-11e7-9dde-b13911986b7c.png\" />"
   ]
  },
  {
   "cell_type": "markdown",
   "metadata": {
    "slideshow": {
     "slide_type": "subslide"
    }
   },
   "source": [
    "## Rasterize OSM Features"
   ]
  },
  {
   "cell_type": "code",
   "execution_count": null,
   "metadata": {
    "slideshow": {
     "slide_type": "fragment"
    }
   },
   "outputs": [],
   "source": [
    "# Combine the roads, paths into one RDD and then rasterize\n",
    "osm_raster = gps.geotrellis.rasterize_features(\n",
    "    features = pysc.union([road_features, path_features]),\n",
    "    crs = \"EPSG:4326\",\n",
    "    zoom = 13,\n",
    "    cell_type = gps.CellType.INT8RAW,\n",
    "    partition_strategy = gps.SpatialPartitionStrategy(1000))\\\n",
    ".convert_data_type(gps.CellType.FLOAT32, -2147483648.0)"
   ]
  },
  {
   "cell_type": "markdown",
   "metadata": {
    "slideshow": {
     "slide_type": "fragment"
    }
   },
   "source": [
    "- **CRS**: Coordinate Reference System, `4326` is Lat-Long\n",
    "- **Zoom**: Level of detail in a power of two tile pyramid\n",
    "- **NoData**: Flag for absence of data, `-2147483648.0`"
   ]
  },
  {
   "cell_type": "markdown",
   "metadata": {
    "slideshow": {
     "slide_type": "slide"
    }
   },
   "source": [
    "## Save the Rasterized OSM Features"
   ]
  },
  {
   "cell_type": "code",
   "execution_count": null,
   "metadata": {
    "slideshow": {
     "slide_type": "fragment"
    }
   },
   "outputs": [],
   "source": [
    "tiled_osm = osm_raster\\\n",
    "    .tile_to_layout(layout = gps.GlobalLayout(), target_crs = \"EPSG:3857\")\\\n",
    "    .with_no_data(0.0)"
   ]
  },
  {
   "cell_type": "markdown",
   "metadata": {
    "slideshow": {
     "slide_type": "fragment"
    }
   },
   "source": [
    "<img src=\"https://user-images.githubusercontent.com/1158084/40943007-98d2b22c-6804-11e8-82ba-efebd5ceea34.jpg\" style=\"height: 300px; align: center\"/>"
   ]
  },
  {
   "cell_type": "markdown",
   "metadata": {
    "slideshow": {
     "slide_type": "subslide"
    }
   },
   "source": [
    "## Save the Rasterized OSM Features"
   ]
  },
  {
   "cell_type": "code",
   "execution_count": null,
   "metadata": {
    "slideshow": {
     "slide_type": "fragment"
    }
   },
   "outputs": [],
   "source": [
    "osm_pyramid = tiled_osm.pyramid(\n",
    "    partition_strategy = gps.SpatialPartitionStrategy(1000))"
   ]
  },
  {
   "cell_type": "markdown",
   "metadata": {
    "slideshow": {
     "slide_type": "fragment"
    }
   },
   "source": [
    "<img src=\"https://user-images.githubusercontent.com/1158084/40943639-bf40b1e6-6806-11e8-8dca-55a8dd46fc99.jpg\" \n",
    " style=\"height: 300px\"/>"
   ]
  },
  {
   "cell_type": "markdown",
   "metadata": {
    "slideshow": {
     "slide_type": "subslide"
    }
   },
   "source": [
    "## Save the Rasterized OSM Features"
   ]
  },
  {
   "cell_type": "code",
   "execution_count": null,
   "metadata": {
    "scrolled": true,
    "slideshow": {
     "slide_type": "fragment"
    }
   },
   "outputs": [],
   "source": [
    "osm_layer_name = \"rasterized-osm-features\"\n",
    "\n",
    "# Save layer histogram for later use\n",
    "osm_hist = osm_pyramid.get_histogram()\n",
    "store.layer(osm_layer_name).write(\"histogram\", osm_hist.to_dict())\n",
    "\n",
    "# Save layer pyramid\n",
    "for zoom, layer in sorted(osm_pyramid.levels.items(), reverse=True):\n",
    "    print(\"Writing zoom\", zoom)\n",
    "    store.layer(osm_layer_name, zoom).delete(\"metadata\")\n",
    "    gps.write(layer_uri, osm_layer_name, layer)"
   ]
  },
  {
   "cell_type": "markdown",
   "metadata": {
    "slideshow": {
     "slide_type": "subslide"
    }
   },
   "source": [
    "## Displaying the Rasterized OSM Features"
   ]
  },
  {
   "cell_type": "code",
   "execution_count": null,
   "metadata": {
    "scrolled": false,
    "slideshow": {
     "slide_type": "fragment"
    }
   },
   "outputs": [],
   "source": [
    "osm_layer_name = \"rasterized-osm-features\"\n",
    "osm_hist = gps.Histogram.from_dict(\n",
    "    store.layer(osm_layer_name).read(\"histogram\"))\n",
    "osm_color_map = gps.ColorMap.build(osm_hist, 'magma')\n",
    "\n",
    "osm_tms = gps.TMS.build((layer_uri, osm_layer_name), osm_color_map)\n",
    "osm_tms.bind(\"0.0.0.0\", 56589)"
   ]
  },
  {
   "cell_type": "code",
   "execution_count": null,
   "metadata": {
    "slideshow": {
     "slide_type": "fragment"
    }
   },
   "outputs": [],
   "source": [
    "osm_map = folium.Map()\n",
    "folium.TileLayer(\n",
    "    tiles='http://localhost:56589/tile/{z}/{x}/{y}.png',\n",
    "    attr=\"GeoPySpark\").add_to(osm_map)\n",
    "osm_map.fit_bounds(bounds = [(32.8283, -98.5795)], max_zoom=4)"
   ]
  },
  {
   "cell_type": "code",
   "execution_count": null,
   "metadata": {
    "scrolled": true,
    "slideshow": {
     "slide_type": "subslide"
    }
   },
   "outputs": [],
   "source": [
    "osm_map"
   ]
  },
  {
   "cell_type": "markdown",
   "metadata": {
    "slideshow": {
     "slide_type": "slide"
    }
   },
   "source": [
    "## Save Pyramid Utility"
   ]
  },
  {
   "cell_type": "code",
   "execution_count": null,
   "metadata": {
    "slideshow": {
     "slide_type": "fragment"
    }
   },
   "outputs": [],
   "source": [
    "def save_layer_pyramid(layer_name, layer):\n",
    "    pyramid = layer.pyramid(partition_strategy = gps.SpatialPartitionStrategy(1000))    \n",
    "    hist = pyramid.get_histogram()\n",
    "    store.layer(layer_name).write(\"histogram\", hist.to_dict())\n",
    "\n",
    "    # Save layer pyramid\n",
    "    for zoom, layer in sorted(osm_pyramid.levels.items(), reverse=True):\n",
    "        print(\"Writing {0} at zoom {1}\".format(layer_name, zoom))\n",
    "        store.layer(layer_name, zoom).delete(\"metadata\")\n",
    "        gps.write(layer_uri, layer_name, layer)\n",
    "    \n",
    "    return pyramid"
   ]
  },
  {
   "cell_type": "markdown",
   "metadata": {
    "slideshow": {
     "slide_type": "slide"
    }
   },
   "source": [
    "## Display Saved Pyramid Utility"
   ]
  },
  {
   "cell_type": "code",
   "execution_count": null,
   "metadata": {
    "slideshow": {
     "slide_type": "fragment"
    }
   },
   "outputs": [],
   "source": [
    "def get_layer_tms(layer_name, color_map, port = None):\n",
    "    hist = gps.Histogram.from_dict(store.layer(layer_name).read(\"histogram\"))\n",
    "    cm = gps.ColorMap.build(hist, color_map)\n",
    "    tms = gps.TMS.build((layer_uri, layer_name), cm)\n",
    "    tms.bind(\"0.0.0.0\", port)\n",
    "    return tms"
   ]
  },
  {
   "cell_type": "code",
   "execution_count": null,
   "metadata": {
    "slideshow": {
     "slide_type": "fragment"
    }
   },
   "outputs": [],
   "source": [
    "try: bound_tms\n",
    "except NameError:  bound_tms = {}\n",
    "\n",
    "def get_layer_map(layer_name, color_map, port = None):\n",
    "    key = (layer_name, color_map)\n",
    "    if not (key) in bound_tms:\n",
    "        bound_tms[key] = get_layer_tms(layer_name, color_map, port)\n",
    "    tms = bound_tms[key]\n",
    "    layer_map = folium.Map()\n",
    "    folium.TileLayer(tiles = tms.url_pattern, attr = key).add_to(layer_map)\n",
    "    layer_map.fit_bounds(bounds = [(28.8283, -98.5795)], max_zoom = 4)\n",
    "    return layer_map"
   ]
  },
  {
   "cell_type": "code",
   "execution_count": null,
   "metadata": {
    "scrolled": true,
    "slideshow": {
     "slide_type": "subslide"
    }
   },
   "outputs": [],
   "source": [
    "get_layer_map(\"rasterized-osm-features\", \"magma\")"
   ]
  },
  {
   "cell_type": "markdown",
   "metadata": {
    "slideshow": {
     "slide_type": "slide"
    }
   },
   "source": [
    "# Walking Friction\n",
    "\n",
    "- Elevation\n",
    "- Slope\n",
    "- Land Cover"
   ]
  },
  {
   "cell_type": "markdown",
   "metadata": {
    "slideshow": {
     "slide_type": "slide"
    }
   },
   "source": [
    "## National Elevation Dataset\n",
    "\n",
    "\"The National Elevation Dataset (NED) is the primary elevation data product of the USGS. The NED is a seamless dataset with the best available raster elevation data of the conterminous United States.\"\n",
    "\n",
    "<img src=\"https://lta.cr.usgs.gov/sites/default/files/u19/ned1.gif\"\n",
    "    style=\"float: right; margin-right: 10px; width: 400px\" />\n",
    "\n",
    "\n",
    "https://nationalmap.gov/elevation.html"
   ]
  },
  {
   "cell_type": "markdown",
   "metadata": {
    "slideshow": {
     "slide_type": "subslide"
    }
   },
   "source": [
    "## Reading NED from GeoTiffs"
   ]
  },
  {
   "cell_type": "code",
   "execution_count": null,
   "metadata": {
    "slideshow": {
     "slide_type": "fragment"
    }
   },
   "outputs": [],
   "source": [
    "ned = gps.geotiff.get(\n",
    "    gps.LayerType.SPATIAL, \n",
    "    's3://azavea-datahub/raw/ned-13arcsec-geotiff/', \n",
    "    num_partitions=1000, max_tile_size=256)"
   ]
  },
  {
   "cell_type": "code",
   "execution_count": null,
   "metadata": {
    "slideshow": {
     "slide_type": "fragment"
    }
   },
   "outputs": [],
   "source": [
    "tiled_ned = ned.tile_to_layout(\n",
    "    layout = osm_raster.layer_metadata,\n",
    "    partition_strategy = gps.SpatialPartitionStrategy(1000)\n",
    ").convert_data_type(gps.CellType.FLOAT32, 0.0)\\\n",
    ".persist(StorageLevel.MEMORY_AND_DISK_SER)\n",
    "\n",
    "save_layer_pyramid(\"ned-layer\", tiled_ned)"
   ]
  },
  {
   "cell_type": "code",
   "execution_count": null,
   "metadata": {
    "scrolled": true,
    "slideshow": {
     "slide_type": "subslide"
    }
   },
   "outputs": [],
   "source": [
    "get_layer_map(\"ned-layer\", \"viridis\")"
   ]
  },
  {
   "cell_type": "markdown",
   "metadata": {
    "slideshow": {
     "slide_type": "slide"
    }
   },
   "source": [
    "# Shuttle Radar Topography Mission\n",
    "\n",
    "\"Virtually all of the land surface between +/- 60 degrees latitude was mapped by SRTM.\"\n",
    "\n",
    "<img src=\"https://www2.jpl.nasa.gov/srtm/images/bin/srtm_covmap_thu.jpg\"\n",
    "    style=\"float: right; margin-right: 10px; width: 300px\" />\n",
    "\n",
    "\n",
    "- `SRTMHGT/SRTMHGT` File Format\n",
    "- Available in 1x1 degree tiles\n",
    "- 30m resolution at equator\n",
    "\n",
    "https://www2.jpl.nasa.gov/srtm"
   ]
  },
  {
   "cell_type": "markdown",
   "metadata": {
    "slideshow": {
     "slide_type": "subslide"
    }
   },
   "source": [
    "<img src=\"https://user-images.githubusercontent.com/1158084/40938454-c6d7c292-67f6-11e8-8eaf-30f7fbed6314.png\" />\n",
    "\n",
    "http://dwtkns.com/srtm30m/"
   ]
  },
  {
   "cell_type": "markdown",
   "metadata": {
    "slideshow": {
     "slide_type": "subslide"
    }
   },
   "source": [
    "## SRTM: Not a GeoTiff\n",
    "\n",
    "- `GDAL` is swish army of raster formats\n",
    "- `rasterio` wraps `GDAL` for Python\n",
    "\n",
    "<img src=\"https://upload.wikimedia.org/wikipedia/commons/thumb/d/df/GDALLogoColor.svg/2000px-GDALLogoColor.svg.png\" \n",
    "     style=\"float: right; margin-right: 10px; width: 200px\"/>\n"
   ]
  },
  {
   "cell_type": "markdown",
   "metadata": {
    "slideshow": {
     "slide_type": "subslide"
    }
   },
   "source": [
    "## List some files on S3"
   ]
  },
  {
   "cell_type": "code",
   "execution_count": null,
   "metadata": {
    "slideshow": {
     "slide_type": "fragment"
    }
   },
   "outputs": [],
   "source": [
    "import boto3\n",
    "s3 = boto3.client('s3')\n",
    "def get_raster_s3_objects(bucket, prefix, extension=\"hgt\"):\n",
    "    results = []\n",
    "    paginator = s3.get_paginator('list_objects_v2')\n",
    "    page_iterator = paginator.paginate(Bucket=bucket, Prefix=prefix)\n",
    "    for page in page_iterator:\n",
    "        for item in page['Contents']:\n",
    "            if item['Key'].endswith(extension):\n",
    "                results.append(item)\n",
    "    return results                "
   ]
  },
  {
   "cell_type": "code",
   "execution_count": null,
   "metadata": {
    "slideshow": {
     "slide_type": "fragment"
    }
   },
   "outputs": [],
   "source": [
    "object_names = get_raster_s3_objects(\"mrgeo-source\", \"srtm-v3-30\")\n",
    "uris = list(map(lambda x: 's3://mrgeo-source/{}'.format(x['Key']), object_names))\n",
    "uris[0:3]"
   ]
  },
  {
   "cell_type": "code",
   "execution_count": null,
   "metadata": {
    "slideshow": {
     "slide_type": "subslide"
    }
   },
   "outputs": [],
   "source": [
    "# Lets peek and see what we're working with\n",
    "windows = gps.rasterio._read_windows(\n",
    "    uri = \"s3://mrgeo-source/srtm-v3-30/N00E010.hgt\", \n",
    "    xcols = 256, ycols = 256, \n",
    "    bands = None, \n",
    "    crs_to_proj4 = gps.rasterio.crs_to_proj4)\n",
    "\n",
    "next(windows)"
   ]
  },
  {
   "cell_type": "markdown",
   "metadata": {
    "slideshow": {
     "slide_type": "subslide"
    }
   },
   "source": [
    "## Continental United States\n",
    "\n",
    "The cartographic boundary files are simplified representations of selected geographic areas from the Census Bureau’s MAF/TIGER geographic database."
   ]
  },
  {
   "cell_type": "code",
   "execution_count": null,
   "metadata": {
    "slideshow": {
     "slide_type": "fragment"
    }
   },
   "outputs": [],
   "source": [
    "# Source: https://www.census.gov/geo/maps-data/data/cbf/cbf_nation.html\n",
    "\n",
    "conus_bound = gps.shapefile\\\n",
    "    .get(uri='s3://geopyspark-demo/vector/us/cb_2017_us_nation_20m.shp')\\\n",
    "    .collect()[0].geometry.geoms[78]\n",
    "conus_bound"
   ]
  },
  {
   "cell_type": "markdown",
   "metadata": {
    "slideshow": {
     "slide_type": "subslide"
    }
   },
   "source": [
    "## Filter SRTM to Continental United States"
   ]
  },
  {
   "cell_type": "code",
   "execution_count": null,
   "metadata": {
    "slideshow": {
     "slide_type": "fragment"
    }
   },
   "outputs": [],
   "source": [
    "import shapely\n",
    "import rasterio\n",
    "\n",
    "def uri_and_bounds_in_conus(uri):\n",
    "    with rasterio.open(uri) as data:\n",
    "        x0,y0,x1,y1 = data.bounds\n",
    "        poly = Polygon([(x0,y0), (x1,y0), (x1,y1), (x0,y1), (x0,y0)])\n",
    "        return [(uri, poly)] if conus_bound.intersects(poly) else []\n",
    "    \n",
    "us_uris_and_bounds = pysc.parallelize(uris).flatMap(uri_and_bounds_in_conus)\n",
    "us_uris = us_uris_and_bounds.map(lambda x: x[0])"
   ]
  },
  {
   "cell_type": "markdown",
   "metadata": {
    "slideshow": {
     "slide_type": "subslide"
    }
   },
   "source": [
    "## Tile and Save SRTM subset"
   ]
  },
  {
   "cell_type": "code",
   "execution_count": null,
   "metadata": {
    "slideshow": {
     "slide_type": "fragment"
    }
   },
   "outputs": [],
   "source": [
    "us_rasters = gps.rasterio.get(us_uris)\n",
    "\n",
    "raster_layer = gps.RasterLayer.from_numpy_rdd(\n",
    "    layer_type = gps.LayerType.SPATIAL, \n",
    "    numpy_rdd = us_rasters)\n",
    "\n",
    "tiled_raster_layer = raster_layer.tile_to_layout(\n",
    "    layout = gps.GlobalLayout(), \n",
    "    target_crs = \"EPSG:3857\")\n",
    "\n",
    "save_layer_pyramid(\"srtm\", tiled_raster_layer)"
   ]
  },
  {
   "cell_type": "code",
   "execution_count": null,
   "metadata": {
    "scrolled": true,
    "slideshow": {
     "slide_type": "subslide"
    }
   },
   "outputs": [],
   "source": [
    "get_layer_map(\"srtm\", \"viridis\")"
   ]
  },
  {
   "cell_type": "markdown",
   "metadata": {
    "slideshow": {
     "slide_type": "slide"
    }
   },
   "source": [
    "# National Land Cover Database\n",
    "\n",
    "<img src=\"https://www.mrlc.gov/images/NLCD06_conus_lg.gif\" \n",
    "     style=\"float: left; margin-left: 5px; margin-right: 5px; width: 600px\" />\n",
    "\n",
    "<img src=\"https://www.mrlc.gov/downloadfile.php?file=NLCD_Colour_Classification_Update.jpg\" \n",
    "     style=\"float: left; margin-left: 50px; margin-right: 50px; width: 250px\" />\n",
    "     \n",
    "https://www.mrlc.gov/nlcd2011.php"
   ]
  },
  {
   "cell_type": "markdown",
   "metadata": {
    "slideshow": {
     "slide_type": "subslide"
    }
   },
   "source": [
    "# Reading NLCD Data"
   ]
  },
  {
   "cell_type": "code",
   "execution_count": null,
   "metadata": {
    "slideshow": {
     "slide_type": "fragment"
    }
   },
   "outputs": [],
   "source": [
    "nlcd = gps.geotiff.get(\n",
    "    layer_type = gps.LayerType.SPATIAL, \n",
    "    uri = \"s3://gt-rasters/nlcd/2011/tiles\", \n",
    "    crs = \"EPSG:4326\",\n",
    "    max_tile_size = 512, \n",
    "    num_partitions = 1000)"
   ]
  },
  {
   "cell_type": "code",
   "execution_count": null,
   "metadata": {
    "slideshow": {
     "slide_type": "fragment"
    }
   },
   "outputs": [],
   "source": [
    "tiled_nlcd = nlcd.tile_to_layout(\n",
    "    layout = osm_raster.layer_metadata, \n",
    "    target_crs = \"EPSG:4326\", \n",
    "    partition_strategy = gps.SpatialPartitionStrategy(1000))"
   ]
  },
  {
   "cell_type": "markdown",
   "metadata": {
    "slideshow": {
     "slide_type": "subslide"
    }
   },
   "source": [
    "## Reclassified NLCD Layer"
   ]
  },
  {
   "cell_type": "code",
   "execution_count": null,
   "metadata": {
    "slideshow": {
     "slide_type": "fragment"
    }
   },
   "outputs": [],
   "source": [
    "# Reclassify the NLCD values based on estimated walking impact\n",
    "\n",
    "nlcd_map = {\n",
    "    11.0: 0.0, 12.0: 0.15, 21.0: 0.9, 22.0: 0.9, 23.0: 0.9, 24.0: 0.95,\n",
    "    31.0: 0.1, 41.0: 0.7, 42.0: 0.65, 43.0: 0.75, 51.0: 0.75, 52.0: 0.75,\n",
    "    71.0: 0.8, 81.0: 0.8, 82.0: 0.8, 90.0: 0.2, 95.0: 0.25 }"
   ]
  },
  {
   "cell_type": "code",
   "execution_count": null,
   "metadata": {
    "slideshow": {
     "slide_type": "fragment"
    }
   },
   "outputs": [],
   "source": [
    "nlcd_pmts = tiled_nlcd\\\n",
    "    .convert_data_type(gps.CellType.FLOAT32, 0.0)\\\n",
    "    .reclassify(nlcd_map, float, gps.ClassificationStrategy.EXACT)\n",
    "\n",
    "nlcd_wm = nlcd_pmts.tile_to_layout(\n",
    "    layout = gps.GlobalLayout(), \n",
    "    target_crs = \"EPSG:3857\")\n",
    "\n",
    "save_layer_pyramid(\"raclassified-nlcd\", nlcd_wm)"
   ]
  },
  {
   "cell_type": "code",
   "execution_count": null,
   "metadata": {
    "scrolled": true,
    "slideshow": {
     "slide_type": "subslide"
    }
   },
   "outputs": [],
   "source": [
    "get_layer_map(\"raclassified-nlcd\", 'magma')"
   ]
  },
  {
   "cell_type": "markdown",
   "metadata": {
    "slideshow": {
     "slide_type": "slide"
    }
   },
   "source": [
    "## Tobler Hicking Function\n",
    "\n",
    "<img src=\"https://upload.wikimedia.org/wikipedia/commons/thumb/7/72/Tobler%27s_hiking_function.svg/600px-Tobler%27s_hiking_function.svg.png\" />"
   ]
  },
  {
   "cell_type": "markdown",
   "metadata": {
    "slideshow": {
     "slide_type": "subslide"
    }
   },
   "source": [
    "# Tobler Hicking Function"
   ]
  },
  {
   "cell_type": "code",
   "execution_count": null,
   "metadata": {
    "slideshow": {
     "slide_type": "fragment"
    }
   },
   "outputs": [],
   "source": [
    "# Calculate Slope from the NED layer\n",
    "zfactor = gps.geotrellis.zfactor_lat_lng_calculator('Meters')\n",
    "slope_raster = tiled_ned.slope(zfactor)"
   ]
  },
  {
   "cell_type": "code",
   "execution_count": null,
   "metadata": {
    "slideshow": {
     "slide_type": "fragment"
    }
   },
   "outputs": [],
   "source": [
    "# From the Slope layer, calculate the Tobler walking speed\n",
    "tobler_raster = slope_raster.tobler()\n",
    "\n",
    "# Add the Tobler and Reclassified NLCD layers to adjusted the Tobler values\n",
    "adjusted_tobler = tobler_raster * nlcd_pmts"
   ]
  },
  {
   "cell_type": "code",
   "execution_count": null,
   "metadata": {
    "slideshow": {
     "slide_type": "fragment"
    }
   },
   "outputs": [],
   "source": [
    "# The friction layer is per pixel max between the adjusted Tobler and OSM values\n",
    "friction_with_roads = adjusted_tobler.local_max(osm_raster)"
   ]
  },
  {
   "cell_type": "markdown",
   "metadata": {
    "slideshow": {
     "slide_type": "subslide"
    }
   },
   "source": [
    "## Reproject and Save Friction layer"
   ]
  },
  {
   "cell_type": "code",
   "execution_count": null,
   "metadata": {
    "slideshow": {
     "slide_type": "fragment"
    }
   },
   "outputs": [],
   "source": [
    "friction_layer = friction_with_roads.tile_to_layout(\n",
    "    target_crs = 3857,\n",
    "    layout = gps.GlobalLayout(tile_size=256),\n",
    "    resample_method = gps.ResampleMethod.MAX\n",
    ").convert_data_type(gps.CellType.FLOAT32, 0.0)\n",
    "\n",
    "save_layer_pyramid(\"us-friction-surface-layer-tms\", friction_layer)"
   ]
  },
  {
   "cell_type": "code",
   "execution_count": null,
   "metadata": {
    "slideshow": {
     "slide_type": "slide"
    }
   },
   "outputs": [],
   "source": [
    "get_layer_map(\"us-friction-surface-layer-tms\", \"magma\")"
   ]
  },
  {
   "cell_type": "markdown",
   "metadata": {
    "collapsed": true,
    "slideshow": {
     "slide_type": "slide"
    }
   },
   "source": [
    "# Cost Distance over the Friction Layer"
   ]
  },
  {
   "cell_type": "code",
   "execution_count": null,
   "metadata": {
    "slideshow": {
     "slide_type": "fragment"
    }
   },
   "outputs": [],
   "source": [
    "# The point of origin\n",
    "point = Point(-75.15415012836456, 39.96134940667086)"
   ]
  },
  {
   "cell_type": "code",
   "execution_count": null,
   "metadata": {
    "slideshow": {
     "slide_type": "fragment"
    }
   },
   "outputs": [],
   "source": [
    "# The point of origin needs to be reprojected to WebMercator\n",
    "project = partial(\n",
    "    pyproj.transform,  \n",
    "    pyproj.Proj(init='epsg:4326'),\n",
    "    pyproj.Proj(init='epsg:3857'))\n",
    "reprojected_point = transform(project, point)"
   ]
  },
  {
   "cell_type": "code",
   "execution_count": null,
   "metadata": {
    "slideshow": {
     "slide_type": "fragment"
    }
   },
   "outputs": [],
   "source": [
    "# Using the Quotient of the average walking speed\n",
    "cost_distance = gps.cost_distance(\n",
    "    friction_layer = 3.74 / friction_layer,\n",
    "    geometries = [reprojected_point],\n",
    "    max_distance = 50000)\n",
    "\n",
    "save_layer_pyramid(\"cost-distance-2\", cost_distance)"
   ]
  },
  {
   "cell_type": "code",
   "execution_count": null,
   "metadata": {
    "slideshow": {
     "slide_type": "subslide"
    }
   },
   "outputs": [],
   "source": [
    "get_layer_map('cost-distance-2', 'viridis')"
   ]
  }
 ],
 "metadata": {
  "celltoolbar": "Slideshow",
  "kernelspec": {
   "display_name": "Python 3",
   "language": "python",
   "name": "python3"
  },
  "language_info": {
   "codemirror_mode": {
    "name": "ipython",
    "version": 3
   },
   "file_extension": ".py",
   "mimetype": "text/x-python",
   "name": "python",
   "nbconvert_exporter": "python",
   "pygments_lexer": "ipython3",
   "version": "3.6.5"
  }
 },
 "nbformat": 4,
 "nbformat_minor": 2
}
